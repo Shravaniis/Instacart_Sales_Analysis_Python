{
 "cells": [
  {
   "cell_type": "markdown",
   "id": "59a68121",
   "metadata": {},
   "source": [
    "# 01. Importing Libraries\n"
   ]
  },
  {
   "cell_type": "code",
   "execution_count": 2,
   "id": "7240b3a9",
   "metadata": {},
   "outputs": [],
   "source": [
    "# Import libraries\n",
    "import pandas as pd\n",
    "import numpy as np\n",
    "import os"
   ]
  },
  {
   "cell_type": "markdown",
   "id": "af5d4b40",
   "metadata": {},
   "source": [
    "#  02. Working with Python data types"
   ]
  },
  {
   "cell_type": "code",
   "execution_count": 25,
   "id": "0227ac84",
   "metadata": {},
   "outputs": [],
   "source": [
    "# Code 3 different ways of reaching a result of 100"
   ]
  },
  {
   "cell_type": "code",
   "execution_count": 5,
   "id": "57d6706f",
   "metadata": {},
   "outputs": [],
   "source": [
    "x = 38"
   ]
  },
  {
   "cell_type": "code",
   "execution_count": 6,
   "id": "53492c90",
   "metadata": {},
   "outputs": [],
   "source": [
    "y = 62"
   ]
  },
  {
   "cell_type": "code",
   "execution_count": 7,
   "id": "69ef12c4",
   "metadata": {},
   "outputs": [
    {
     "data": {
      "text/plain": [
       "100"
      ]
     },
     "execution_count": 7,
     "metadata": {},
     "output_type": "execute_result"
    }
   ],
   "source": [
    "x + y"
   ]
  },
  {
   "cell_type": "code",
   "execution_count": 8,
   "id": "279d5547",
   "metadata": {},
   "outputs": [],
   "source": [
    "x = 268"
   ]
  },
  {
   "cell_type": "code",
   "execution_count": 9,
   "id": "f678efb2",
   "metadata": {},
   "outputs": [],
   "source": [
    "y = 168"
   ]
  },
  {
   "cell_type": "code",
   "execution_count": 10,
   "id": "e8781a64",
   "metadata": {},
   "outputs": [
    {
     "data": {
      "text/plain": [
       "100"
      ]
     },
     "execution_count": 10,
     "metadata": {},
     "output_type": "execute_result"
    }
   ],
   "source": [
    "x - y"
   ]
  },
  {
   "cell_type": "code",
   "execution_count": 11,
   "id": "50047311",
   "metadata": {},
   "outputs": [],
   "source": [
    "x = 34"
   ]
  },
  {
   "cell_type": "code",
   "execution_count": 12,
   "id": "4e0f8b4a",
   "metadata": {},
   "outputs": [],
   "source": [
    "y = 44"
   ]
  },
  {
   "cell_type": "code",
   "execution_count": 13,
   "id": "d9189693",
   "metadata": {},
   "outputs": [],
   "source": [
    "z = 26"
   ]
  },
  {
   "cell_type": "code",
   "execution_count": 14,
   "id": "65fcfc62",
   "metadata": {},
   "outputs": [],
   "source": [
    "b = 4"
   ]
  },
  {
   "cell_type": "code",
   "execution_count": 15,
   "id": "5c57f594",
   "metadata": {},
   "outputs": [
    {
     "data": {
      "text/plain": [
       "100"
      ]
     },
     "execution_count": 15,
     "metadata": {},
     "output_type": "execute_result"
    }
   ],
   "source": [
    "x + y + z - b"
   ]
  },
  {
   "cell_type": "code",
   "execution_count": 16,
   "id": "976c3897",
   "metadata": {},
   "outputs": [],
   "source": [
    "# Code 2 floating-point variables and divide them by each other"
   ]
  },
  {
   "cell_type": "code",
   "execution_count": 17,
   "id": "be447dac",
   "metadata": {},
   "outputs": [],
   "source": [
    "x = 5.789"
   ]
  },
  {
   "cell_type": "code",
   "execution_count": 18,
   "id": "2c9498dd",
   "metadata": {},
   "outputs": [],
   "source": [
    "y = 2.5678"
   ]
  },
  {
   "cell_type": "code",
   "execution_count": 19,
   "id": "a072bb71",
   "metadata": {},
   "outputs": [
    {
     "data": {
      "text/plain": [
       "2.2544590700210296"
      ]
     },
     "execution_count": 19,
     "metadata": {},
     "output_type": "execute_result"
    }
   ],
   "source": [
    "x / y"
   ]
  },
  {
   "cell_type": "code",
   "execution_count": 20,
   "id": "ddd5b668",
   "metadata": {},
   "outputs": [],
   "source": [
    "x = 67.987"
   ]
  },
  {
   "cell_type": "code",
   "execution_count": 21,
   "id": "bc61870e",
   "metadata": {},
   "outputs": [],
   "source": [
    "y = 3.567"
   ]
  },
  {
   "cell_type": "code",
   "execution_count": 22,
   "id": "82e149f6",
   "metadata": {},
   "outputs": [
    {
     "data": {
      "text/plain": [
       "19.059994393047376"
      ]
     },
     "execution_count": 22,
     "metadata": {},
     "output_type": "execute_result"
    }
   ],
   "source": [
    "x / y"
   ]
  },
  {
   "cell_type": "code",
   "execution_count": 23,
   "id": "10532d98",
   "metadata": {},
   "outputs": [],
   "source": [
    "# Construct a short word made of separate strings"
   ]
  },
  {
   "cell_type": "code",
   "execution_count": 36,
   "id": "7108b338",
   "metadata": {},
   "outputs": [],
   "source": [
    "x = 'paper '"
   ]
  },
  {
   "cell_type": "code",
   "execution_count": 37,
   "id": "8269e104",
   "metadata": {},
   "outputs": [],
   "source": [
    "y ='boat'"
   ]
  },
  {
   "cell_type": "code",
   "execution_count": 38,
   "id": "daffc4f9",
   "metadata": {},
   "outputs": [
    {
     "data": {
      "text/plain": [
       "'paper boat'"
      ]
     },
     "execution_count": 38,
     "metadata": {},
     "output_type": "execute_result"
    }
   ],
   "source": [
    "x + y"
   ]
  },
  {
   "cell_type": "code",
   "execution_count": 40,
   "id": "b5fe2967",
   "metadata": {},
   "outputs": [],
   "source": [
    "# Construct 2 short sentences made of separate strings."
   ]
  },
  {
   "cell_type": "code",
   "execution_count": 42,
   "id": "393856ce",
   "metadata": {},
   "outputs": [],
   "source": [
    "x = 'I '"
   ]
  },
  {
   "cell_type": "code",
   "execution_count": 43,
   "id": "b5de4d6f",
   "metadata": {},
   "outputs": [],
   "source": [
    "y = 'am '"
   ]
  },
  {
   "cell_type": "code",
   "execution_count": 44,
   "id": "af4ae9fe",
   "metadata": {},
   "outputs": [],
   "source": [
    "z = 'happy '"
   ]
  },
  {
   "cell_type": "code",
   "execution_count": 45,
   "id": "d2380552",
   "metadata": {},
   "outputs": [],
   "source": [
    "a = 'today.'"
   ]
  },
  {
   "cell_type": "code",
   "execution_count": 46,
   "id": "52823106",
   "metadata": {},
   "outputs": [
    {
     "data": {
      "text/plain": [
       "'I am happy today.'"
      ]
     },
     "execution_count": 46,
     "metadata": {},
     "output_type": "execute_result"
    }
   ],
   "source": [
    "x + y + z + a"
   ]
  },
  {
   "cell_type": "code",
   "execution_count": 48,
   "id": "b8ab5822",
   "metadata": {},
   "outputs": [],
   "source": [
    "x = 'Paris '"
   ]
  },
  {
   "cell_type": "code",
   "execution_count": 49,
   "id": "71d90e40",
   "metadata": {},
   "outputs": [],
   "source": [
    "y = 'is '"
   ]
  },
  {
   "cell_type": "code",
   "execution_count": 50,
   "id": "288b4685",
   "metadata": {},
   "outputs": [],
   "source": [
    "s = 'a '"
   ]
  },
  {
   "cell_type": "code",
   "execution_count": 51,
   "id": "196c4790",
   "metadata": {},
   "outputs": [],
   "source": [
    "g = 'beautiful city.'"
   ]
  },
  {
   "cell_type": "code",
   "execution_count": 52,
   "id": "7128b413",
   "metadata": {},
   "outputs": [
    {
     "data": {
      "text/plain": [
       "'Paris is a beautiful city.'"
      ]
     },
     "execution_count": 52,
     "metadata": {},
     "output_type": "execute_result"
    }
   ],
   "source": [
    "x + y + s + g"
   ]
  },
  {
   "cell_type": "code",
   "execution_count": 53,
   "id": "61ed3683",
   "metadata": {},
   "outputs": [],
   "source": [
    "# Make a string appear 100 times"
   ]
  },
  {
   "cell_type": "code",
   "execution_count": 54,
   "id": "99253e48",
   "metadata": {},
   "outputs": [],
   "source": [
    "x = 'If money doesn’t grow on trees, why do banks have branches? '"
   ]
  },
  {
   "cell_type": "code",
   "execution_count": 55,
   "id": "dcbe8d35",
   "metadata": {},
   "outputs": [
    {
     "name": "stdout",
     "output_type": "stream",
     "text": [
      "If money doesn’t grow on trees, why do banks have branches? If money doesn’t grow on trees, why do banks have branches? If money doesn’t grow on trees, why do banks have branches? If money doesn’t grow on trees, why do banks have branches? If money doesn’t grow on trees, why do banks have branches? If money doesn’t grow on trees, why do banks have branches? If money doesn’t grow on trees, why do banks have branches? If money doesn’t grow on trees, why do banks have branches? If money doesn’t grow on trees, why do banks have branches? If money doesn’t grow on trees, why do banks have branches? If money doesn’t grow on trees, why do banks have branches? If money doesn’t grow on trees, why do banks have branches? If money doesn’t grow on trees, why do banks have branches? If money doesn’t grow on trees, why do banks have branches? If money doesn’t grow on trees, why do banks have branches? If money doesn’t grow on trees, why do banks have branches? If money doesn’t grow on trees, why do banks have branches? If money doesn’t grow on trees, why do banks have branches? If money doesn’t grow on trees, why do banks have branches? If money doesn’t grow on trees, why do banks have branches? If money doesn’t grow on trees, why do banks have branches? If money doesn’t grow on trees, why do banks have branches? If money doesn’t grow on trees, why do banks have branches? If money doesn’t grow on trees, why do banks have branches? If money doesn’t grow on trees, why do banks have branches? If money doesn’t grow on trees, why do banks have branches? If money doesn’t grow on trees, why do banks have branches? If money doesn’t grow on trees, why do banks have branches? If money doesn’t grow on trees, why do banks have branches? If money doesn’t grow on trees, why do banks have branches? If money doesn’t grow on trees, why do banks have branches? If money doesn’t grow on trees, why do banks have branches? If money doesn’t grow on trees, why do banks have branches? If money doesn’t grow on trees, why do banks have branches? If money doesn’t grow on trees, why do banks have branches? If money doesn’t grow on trees, why do banks have branches? If money doesn’t grow on trees, why do banks have branches? If money doesn’t grow on trees, why do banks have branches? If money doesn’t grow on trees, why do banks have branches? If money doesn’t grow on trees, why do banks have branches? If money doesn’t grow on trees, why do banks have branches? If money doesn’t grow on trees, why do banks have branches? If money doesn’t grow on trees, why do banks have branches? If money doesn’t grow on trees, why do banks have branches? If money doesn’t grow on trees, why do banks have branches? If money doesn’t grow on trees, why do banks have branches? If money doesn’t grow on trees, why do banks have branches? If money doesn’t grow on trees, why do banks have branches? If money doesn’t grow on trees, why do banks have branches? If money doesn’t grow on trees, why do banks have branches? If money doesn’t grow on trees, why do banks have branches? If money doesn’t grow on trees, why do banks have branches? If money doesn’t grow on trees, why do banks have branches? If money doesn’t grow on trees, why do banks have branches? If money doesn’t grow on trees, why do banks have branches? If money doesn’t grow on trees, why do banks have branches? If money doesn’t grow on trees, why do banks have branches? If money doesn’t grow on trees, why do banks have branches? If money doesn’t grow on trees, why do banks have branches? If money doesn’t grow on trees, why do banks have branches? If money doesn’t grow on trees, why do banks have branches? If money doesn’t grow on trees, why do banks have branches? If money doesn’t grow on trees, why do banks have branches? If money doesn’t grow on trees, why do banks have branches? If money doesn’t grow on trees, why do banks have branches? If money doesn’t grow on trees, why do banks have branches? If money doesn’t grow on trees, why do banks have branches? If money doesn’t grow on trees, why do banks have branches? If money doesn’t grow on trees, why do banks have branches? If money doesn’t grow on trees, why do banks have branches? If money doesn’t grow on trees, why do banks have branches? If money doesn’t grow on trees, why do banks have branches? If money doesn’t grow on trees, why do banks have branches? If money doesn’t grow on trees, why do banks have branches? If money doesn’t grow on trees, why do banks have branches? If money doesn’t grow on trees, why do banks have branches? If money doesn’t grow on trees, why do banks have branches? If money doesn’t grow on trees, why do banks have branches? If money doesn’t grow on trees, why do banks have branches? If money doesn’t grow on trees, why do banks have branches? If money doesn’t grow on trees, why do banks have branches? If money doesn’t grow on trees, why do banks have branches? If money doesn’t grow on trees, why do banks have branches? If money doesn’t grow on trees, why do banks have branches? If money doesn’t grow on trees, why do banks have branches? If money doesn’t grow on trees, why do banks have branches? If money doesn’t grow on trees, why do banks have branches? If money doesn’t grow on trees, why do banks have branches? If money doesn’t grow on trees, why do banks have branches? If money doesn’t grow on trees, why do banks have branches? If money doesn’t grow on trees, why do banks have branches? If money doesn’t grow on trees, why do banks have branches? If money doesn’t grow on trees, why do banks have branches? If money doesn’t grow on trees, why do banks have branches? If money doesn’t grow on trees, why do banks have branches? If money doesn’t grow on trees, why do banks have branches? If money doesn’t grow on trees, why do banks have branches? If money doesn’t grow on trees, why do banks have branches? If money doesn’t grow on trees, why do banks have branches? If money doesn’t grow on trees, why do banks have branches? \n"
     ]
    }
   ],
   "source": [
    "print(x *100)"
   ]
  },
  {
   "cell_type": "code",
   "execution_count": null,
   "id": "fcf3f032",
   "metadata": {},
   "outputs": [],
   "source": []
  }
 ],
 "metadata": {
  "kernelspec": {
   "display_name": "Python 3 (ipykernel)",
   "language": "python",
   "name": "python3"
  },
  "language_info": {
   "codemirror_mode": {
    "name": "ipython",
    "version": 3
   },
   "file_extension": ".py",
   "mimetype": "text/x-python",
   "name": "python",
   "nbconvert_exporter": "python",
   "pygments_lexer": "ipython3",
   "version": "3.11.7"
  }
 },
 "nbformat": 4,
 "nbformat_minor": 5
}
